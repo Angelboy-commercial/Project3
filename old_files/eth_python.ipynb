{
 "cells": [
  {
   "cell_type": "code",
   "execution_count": 29,
   "metadata": {},
   "outputs": [
    {
     "data": {
      "text/plain": [
       "True"
      ]
     },
     "execution_count": 29,
     "metadata": {},
     "output_type": "execute_result"
    }
   ],
   "source": [
    "import os\n",
    "import json\n",
    "from web3 import Web3\n",
    "from pathlib import Path\n",
    "from dotenv import load_dotenv\n",
    "import streamlit as st\n",
    "import pinata\n",
    "\n",
    "load_dotenv()"
   ]
  },
  {
   "cell_type": "code",
   "execution_count": 2,
   "metadata": {},
   "outputs": [
    {
     "ename": "ModuleNotFoundError",
     "evalue": "No module named 'librosa'",
     "output_type": "error",
     "traceback": [
      "\u001b[1;31m---------------------------------------------------------------------------\u001b[0m",
      "\u001b[1;31mModuleNotFoundError\u001b[0m                       Traceback (most recent call last)",
      "\u001b[1;32m~\\AppData\\Local\\Temp\\ipykernel_12780\\1121779986.py\u001b[0m in \u001b[0;36m<module>\u001b[1;34m\u001b[0m\n\u001b[1;32m----> 1\u001b[1;33m \u001b[1;32mimport\u001b[0m \u001b[0mlibrosa\u001b[0m\u001b[1;33m\u001b[0m\u001b[1;33m\u001b[0m\u001b[0m\n\u001b[0m",
      "\u001b[1;31mModuleNotFoundError\u001b[0m: No module named 'librosa'"
     ]
    }
   ],
   "source": [
    "import librosa"
   ]
  },
  {
   "cell_type": "code",
   "execution_count": 59,
   "metadata": {},
   "outputs": [],
   "source": [
    "w3 = Web3(Web3.HTTPProvider(os.getenv(\"WEB3_PROVIDER_URI\")))\n",
    "\n",
    "def contract_(contract):\n",
    "    with open(Path(f'../contracts_json/{contract}.json')) as f:\n",
    "        artwork_abi = json.load(f)\n",
    "\n",
    "        contract_address = os.getenv(\"CONTRACT_ADDRESS\")\n",
    "\n",
    "    # Load the contract\n",
    "        contract = w3.eth.contract(\n",
    "        address=contract_address,\n",
    "        abi=artwork_abi\n",
    "    )\n",
    "\n",
    "    return contract"
   ]
  },
  {
   "cell_type": "code",
   "execution_count": 31,
   "metadata": {},
   "outputs": [],
   "source": [
    "def PostNFT(artwork_name, artwork_file):\n",
    "    pinata.pin_artwork(artwork_name, artwork_file)\n",
    "\n",
    "def PinAppraisal(appraisal_content):\n",
    "    pinata.pin_appraisal_report(appraisal_content)\n"
   ]
  },
  {
   "cell_type": "markdown",
   "metadata": {},
   "source": [
    "# music in smart contracts\n",
    "-upload music for sale in auction style\n",
    "..use python script for time and embed that within the smart contract\n",
    " "
   ]
  },
  {
   "cell_type": "code",
   "execution_count": 66,
   "metadata": {},
   "outputs": [],
   "source": [
    "def execute_contract(contract_name):\n",
    "    contract = contract_(contract_name)\n",
    "    return contract.functions\n",
    "\n",
    "contract___ = \n"
   ]
  },
  {
   "cell_type": "code",
   "execution_count": null,
   "metadata": {},
   "outputs": [],
   "source": [
    "def create_an_nft(artwork_name, artwork_file,address, artist_name,initial_appraisal_value= 1000000):\n",
    "    contract = execute_contract('nft')\n",
    "    contract.functions.registerArtwork(\n",
    "        address,artwork_name,\n",
    "        artist_name, int(initial_appraisal_value),\n",
    "        artwork_uri, token_json['image']\n",
    "    ).transact({'from': address, 'gas':1000000})\n",
    "    receipt = w3."
   ]
  }
 ],
 "metadata": {
  "kernelspec": {
   "display_name": "Python 3.9.13 64-bit (windows store)",
   "language": "python",
   "name": "python3"
  },
  "language_info": {
   "codemirror_mode": {
    "name": "ipython",
    "version": 3
   },
   "file_extension": ".py",
   "mimetype": "text/x-python",
   "name": "python",
   "nbconvert_exporter": "python",
   "pygments_lexer": "ipython3",
   "version": "3.9.13"
  },
  "orig_nbformat": 4,
  "vscode": {
   "interpreter": {
    "hash": "c437ce72b3f4ba12e887f8a12f2de1fbaecb167006f44f17db8e8d59678ffc2b"
   }
  }
 },
 "nbformat": 4,
 "nbformat_minor": 2
}
