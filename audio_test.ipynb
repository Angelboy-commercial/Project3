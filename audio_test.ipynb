{
 "cells": [
  {
   "cell_type": "code",
   "execution_count": 1,
   "metadata": {},
   "outputs": [
    {
     "name": "stdout",
     "output_type": "stream",
     "text": [
      "pygame 2.1.2 (SDL 2.0.18, Python 3.7.11)\n",
      "Hello from the pygame community. https://www.pygame.org/contribute.html\n"
     ]
    }
   ],
   "source": [
    "from tkinter import *\n",
    "import pygame\n",
    "from time import strftime"
   ]
  },
  {
   "cell_type": "code",
   "execution_count": 26,
   "metadata": {},
   "outputs": [],
   "source": [
    "def play(track):\n",
    "    track = track\n",
    "    pygame.mixer.init()\n",
    "    pygame.mixer.music.load(f'{track}.mp3')\n",
    "    pygame.mixer.music.play(loops=0)\n",
    "\n",
    "\n",
    "play('celebrate')\n",
    "# help from codemy    \n"
   ]
  },
  {
   "cell_type": "code",
   "execution_count": 4,
   "metadata": {},
   "outputs": [],
   "source": [
    "root = Tk()\n",
    "root.title('POST AN NFT!')\n",
    "menubar = Menu(root)\n",
    "NFTs = Menu(menubar,tearoff= 0)\n",
    "menubar.add_cascade(label='Charity NFTs', menu = NFTs)\n",
    "\n",
    "NFTs.add_command(label='Post NFT', command=None)\n",
    "NFTs.add_command(label='Bid on NFTs', command=None)\n",
    "NFTs.add_command(label='Claim NFT', command=None)\n",
    "NFTs.add_command(label='Charities donated to', command=None)\n",
    "NFTs.add_command(label='Top creators')\n",
    "NFTs.add_separator()\n",
    "NFTs.add_command(label='Exit', command=root.destroy)\n",
    "\n",
    "\n",
    "\n",
    "menubar.add_cascade(label='Music NFTs', menu = NFTs)\n",
    "\n",
    "NFTs.add_command(label='Post music NFT', command=None)\n",
    "NFTs.add_command(label='Bid on Songs', command=None)\n",
    "NFTs.add_command(label='Claim song', command=None)\n",
    "\n",
    "NFTs.add_separator()\n",
    "NFTs.add_command(label='Exit', command=root.destroy)\n",
    "\n",
    "\n",
    "\n",
    "\n",
    "mainloop()"
   ]
  }
 ],
 "metadata": {
  "interpreter": {
   "hash": "5fdbc94104102861374f83321bcd762642a46be0574421dfbb612a275f5a228d"
  },
  "kernelspec": {
   "display_name": "Python 3.7.11 ('pyvizenv')",
   "language": "python",
   "name": "python3"
  },
  "language_info": {
   "codemirror_mode": {
    "name": "ipython",
    "version": 3
   },
   "file_extension": ".py",
   "mimetype": "text/x-python",
   "name": "python",
   "nbconvert_exporter": "python",
   "pygments_lexer": "ipython3",
   "version": "3.7.11"
  },
  "orig_nbformat": 4
 },
 "nbformat": 4,
 "nbformat_minor": 2
}
